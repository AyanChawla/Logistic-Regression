{
 "cells": [
  {
   "cell_type": "code",
   "execution_count": 114,
   "metadata": {},
   "outputs": [],
   "source": [
    "def grad(X,y,w):\n",
    "    z = np.dot(X,w)\n",
    "    fx = 1 / (1 + np.exp(-z))\n",
    "    gradient = np.dot(X.T, (y - fx)) \n",
    "    w = w + (0.01 * gradient)\n",
    "    return w "
   ]
  },
  {
   "cell_type": "code",
   "execution_count": null,
   "metadata": {},
   "outputs": [],
   "source": []
  },
  {
   "cell_type": "code",
   "execution_count": 56,
   "metadata": {},
   "outputs": [],
   "source": [
    "import pandas as pd\n",
    "import numpy as np\n"
   ]
  },
  {
   "cell_type": "code",
   "execution_count": 92,
   "metadata": {},
   "outputs": [],
   "source": [
    "df=pd.read_csv('C:/Users/asus/Vikas IIST/data1.csv')"
   ]
  },
  {
   "cell_type": "code",
   "execution_count": 93,
   "metadata": {},
   "outputs": [],
   "source": [
    "y=pd.DataFrame(df['y'])"
   ]
  },
  {
   "cell_type": "code",
   "execution_count": 94,
   "metadata": {},
   "outputs": [],
   "source": [
    "X=df[['x1','x2']]"
   ]
  },
  {
   "cell_type": "code",
   "execution_count": 95,
   "metadata": {},
   "outputs": [],
   "source": [
    "avgX=np.mean(X)\n",
    "stdX=np.std(X)"
   ]
  },
  {
   "cell_type": "code",
   "execution_count": 96,
   "metadata": {},
   "outputs": [],
   "source": [
    "X1=X"
   ]
  },
  {
   "cell_type": "code",
   "execution_count": 97,
   "metadata": {},
   "outputs": [],
   "source": [
    "X=(X-avgX)/stdX"
   ]
  },
  {
   "cell_type": "code",
   "execution_count": 98,
   "metadata": {},
   "outputs": [],
   "source": [
    "y=y.replace(-1,0)"
   ]
  },
  {
   "cell_type": "code",
   "execution_count": 99,
   "metadata": {},
   "outputs": [],
   "source": [
    "w_old=np.zeros((df.shape[1],1))"
   ]
  },
  {
   "cell_type": "code",
   "execution_count": 101,
   "metadata": {},
   "outputs": [],
   "source": [
    "nm=10000*10000"
   ]
  },
  {
   "cell_type": "code",
   "execution_count": 102,
   "metadata": {},
   "outputs": [],
   "source": [
    "w_new=w_old"
   ]
  },
  {
   "cell_type": "code",
   "execution_count": 103,
   "metadata": {},
   "outputs": [],
   "source": [
    "itr=0"
   ]
  },
  {
   "cell_type": "code",
   "execution_count": 104,
   "metadata": {},
   "outputs": [],
   "source": [
    "intercept=np.ones((X.shape[0],1))"
   ]
  },
  {
   "cell_type": "code",
   "execution_count": 108,
   "metadata": {},
   "outputs": [],
   "source": [
    "X=np.concatenate((intercept,X),axis=1)"
   ]
  },
  {
   "cell_type": "code",
   "execution_count": null,
   "metadata": {},
   "outputs": [],
   "source": []
  },
  {
   "cell_type": "code",
   "execution_count": null,
   "metadata": {},
   "outputs": [],
   "source": []
  },
  {
   "cell_type": "code",
   "execution_count": 115,
   "metadata": {},
   "outputs": [],
   "source": [
    "while(itr<100000 and nm>1e-4):\n",
    "    w_new=grad(X,y,w_old)\n",
    "    nm=np.linalg.norm(w_new-w_old)\n",
    "    w_old=w_new\n",
    "    itr +=1"
   ]
  },
  {
   "cell_type": "code",
   "execution_count": 119,
   "metadata": {},
   "outputs": [],
   "source": [
    "z=np.dot(X,w_new)"
   ]
  },
  {
   "cell_type": "code",
   "execution_count": 120,
   "metadata": {},
   "outputs": [],
   "source": [
    "prediction=1 / (1 + np.exp(-z))"
   ]
  },
  {
   "cell_type": "code",
   "execution_count": 169,
   "metadata": {},
   "outputs": [],
   "source": [
    "preds=[]"
   ]
  },
  {
   "cell_type": "code",
   "execution_count": 171,
   "metadata": {},
   "outputs": [],
   "source": [
    "for i in range(0,len(prediction)):\n",
    "    if prediction[i]>0.5:\n",
    "        preds.append(1)\n",
    "    if prediction[i]<=0.5:\n",
    "        preds.append(0)\n"
   ]
  },
  {
   "cell_type": "code",
   "execution_count": 178,
   "metadata": {},
   "outputs": [
    {
     "name": "stdout",
     "output_type": "stream",
     "text": [
      "100\n"
     ]
    }
   ],
   "source": [
    "c=0\n",
    "for i in range(len(preds)):\n",
    "    \n",
    "    if(preds[i]==1):\n",
    "        c+=1\n",
    "print(c)"
   ]
  },
  {
   "cell_type": "code",
   "execution_count": 190,
   "metadata": {},
   "outputs": [],
   "source": [
    "tp=0\n",
    "tn=0\n",
    "fp=0\n",
    "fn=0\n",
    "for i in range(len(preds)): \n",
    "    if(preds[i] ==y1[i]):\n",
    "        if(preds[i]==1):\n",
    "            tp=tp+1\n",
    "        else:\n",
    "            tn=tn+1\n",
    "    else:\n",
    "        if(preds[i]==1):\n",
    "            fp=fp+1\n",
    "        else:\n",
    "            fn=fn+1 "
   ]
  },
  {
   "cell_type": "code",
   "execution_count": 195,
   "metadata": {},
   "outputs": [],
   "source": [
    "sensitivity=0\n",
    "specificity=0\n",
    "precision=0\n",
    "f_measure=0\n",
    "if(tp+fn !=0):\n",
    "    sensitivity=tp/(tp+fn)\n",
    "if(tn+fp !=0):\n",
    "    specificity=tn/(tn+fp)\n",
    "if(tp+fp !=0):\n",
    "    precision=tp/(tp+fp)\n",
    "if(precision + sensitivity !=0):\n",
    "    f_measure=(2*precision*sensitivity)/(precision+sensitivity)\n",
    "accuracy=(tp+tn)/(tp+tn+fp+fn)"
   ]
  },
  {
   "cell_type": "code",
   "execution_count": 197,
   "metadata": {},
   "outputs": [
    {
     "name": "stdout",
     "output_type": "stream",
     "text": [
      "tp= 100\n",
      "tn= 100\n",
      "fp= 0\n",
      "fn= 0\n",
      "Accuracy= 1.0\n",
      "Sensitivity= 1.0\n",
      "Specificity= 1.0\n",
      "Precision= 1.0\n",
      "F_measure= 1.0\n"
     ]
    }
   ],
   "source": [
    "    print(\"tp=\",tp)\n",
    "    print(\"tn=\",tn)\n",
    "    print(\"fp=\",fp)\n",
    "    print(\"fn=\",fn)\n",
    "    \n",
    "    print(\"Accuracy=\",accuracy)\n",
    "    print(\"Sensitivity=\",sensitivity)\n",
    "    print(\"Specificity=\",specificity)\n",
    "    print(\"Precision=\",precision)\n",
    "    print(\"F_measure=\",f_measure)"
   ]
  },
  {
   "cell_type": "code",
   "execution_count": null,
   "metadata": {},
   "outputs": [],
   "source": []
  }
 ],
 "metadata": {
  "kernelspec": {
   "display_name": "Python 3",
   "language": "python",
   "name": "python3"
  },
  "language_info": {
   "codemirror_mode": {
    "name": "ipython",
    "version": 3
   },
   "file_extension": ".py",
   "mimetype": "text/x-python",
   "name": "python",
   "nbconvert_exporter": "python",
   "pygments_lexer": "ipython3",
   "version": "3.7.3"
  }
 },
 "nbformat": 4,
 "nbformat_minor": 2
}
